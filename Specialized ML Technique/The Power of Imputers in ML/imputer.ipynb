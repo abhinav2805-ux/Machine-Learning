{
 "cells": [
  {
   "cell_type": "code",
   "execution_count": 1,
   "metadata": {},
   "outputs": [],
   "source": [
    "import pandas as pd\n",
    "import numpy as np"
   ]
  },
  {
   "cell_type": "markdown",
   "metadata": {},
   "source": [
    "### Creating Dummy Data\n"
   ]
  },
  {
   "cell_type": "code",
   "execution_count": 2,
   "metadata": {},
   "outputs": [
    {
     "name": "stdout",
     "output_type": "stream",
     "text": [
      "    age   salary\n",
      "0  25.0  50000.0\n",
      "1   NaN  60000.0\n",
      "2  30.0      NaN\n",
      "3   NaN  90000.0\n",
      "4  35.0      NaN\n"
     ]
    }
   ],
   "source": [
    "data = {'age': [25, np.nan, 30, np.nan, 35],\n",
    "        'salary': [50000, 60000, np.nan, 90000, np.nan]}\n",
    "\n",
    "dataframe = pd.DataFrame(data)\n",
    "print(dataframe)"
   ]
  },
  {
   "cell_type": "markdown",
   "metadata": {},
   "source": [
    "### Data Imputation Using Mean"
   ]
  },
  {
   "cell_type": "code",
   "execution_count": 3,
   "metadata": {},
   "outputs": [
    {
     "name": "stdout",
     "output_type": "stream",
     "text": [
      "    age        salary\n",
      "0  25.0  50000.000000\n",
      "1  30.0  60000.000000\n",
      "2  30.0  66666.666667\n",
      "3  30.0  90000.000000\n",
      "4  35.0  66666.666667\n"
     ]
    }
   ],
   "source": [
    "from sklearn.impute import SimpleImputer\n",
    "\n",
    "imputer = SimpleImputer(strategy='mean')\n",
    "imputed_data = imputer.fit_transform(dataframe)\n",
    "imputed_df = pd.DataFrame(imputed_data, columns=dataframe.columns)\n",
    "print(imputed_df)"
   ]
  },
  {
   "cell_type": "markdown",
   "metadata": {},
   "source": [
    "### Data Imputation Using KNN Imputer"
   ]
  },
  {
   "cell_type": "code",
   "execution_count": 4,
   "metadata": {},
   "outputs": [
    {
     "name": "stdout",
     "output_type": "stream",
     "text": [
      "    age   salary\n",
      "0  25.0  50000.0\n",
      "1  27.5  60000.0\n",
      "2  30.0  55000.0\n",
      "3  27.5  90000.0\n",
      "4  35.0  55000.0\n"
     ]
    }
   ],
   "source": [
    "from sklearn.impute import KNNImputer\n",
    "\n",
    "imputer = KNNImputer(n_neighbors=2)\n",
    "imputed_data = imputer.fit_transform(dataframe)\n",
    "imputed_df = pd.DataFrame(imputed_data, columns=dataframe.columns)\n",
    "print(imputed_df)"
   ]
  },
  {
   "cell_type": "code",
   "execution_count": null,
   "metadata": {},
   "outputs": [],
   "source": []
  }
 ],
 "metadata": {
  "kernelspec": {
   "display_name": "base",
   "language": "python",
   "name": "python3"
  },
  "language_info": {
   "codemirror_mode": {
    "name": "ipython",
    "version": 3
   },
   "file_extension": ".py",
   "mimetype": "text/x-python",
   "name": "python",
   "nbconvert_exporter": "python",
   "pygments_lexer": "ipython3",
   "version": "3.11.7"
  }
 },
 "nbformat": 4,
 "nbformat_minor": 2
}
