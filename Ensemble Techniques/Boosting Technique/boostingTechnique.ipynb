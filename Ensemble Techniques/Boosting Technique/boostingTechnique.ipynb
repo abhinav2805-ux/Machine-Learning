{
 "cells": [
  {
   "cell_type": "markdown",
   "metadata": {},
   "source": [
    "#### ===>>> All weak learners altogether make the strong learning "
   ]
  },
  {
   "cell_type": "markdown",
   "metadata": {},
   "source": [
    "#### Sequential Learning\n",
    "#### this is of 3 types:-\n",
    "##### 1) Adaboost Boosting\n",
    "##### 2) gradient boosting\n",
    "##### 3) XG boosting ( most Powerful algorithm)\n"
   ]
  }
 ],
 "metadata": {
  "kernelspec": {
   "display_name": "base",
   "language": "python",
   "name": "python3"
  },
  "language_info": {
   "name": "python",
   "version": "3.11.7"
  }
 },
 "nbformat": 4,
 "nbformat_minor": 2
}
